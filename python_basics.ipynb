{
  "nbformat": 4,
  "nbformat_minor": 0,
  "metadata": {
    "colab": {
      "provenance": [],
      "authorship_tag": "ABX9TyO1IUDjEwavhN1fFNyNRvnS",
      "include_colab_link": true
    },
    "kernelspec": {
      "name": "python3",
      "display_name": "Python 3"
    },
    "language_info": {
      "name": "python"
    }
  },
  "cells": [
    {
      "cell_type": "markdown",
      "metadata": {
        "id": "view-in-github",
        "colab_type": "text"
      },
      "source": [
        "<a href=\"https://colab.research.google.com/github/adbhutarksingh/adbhutarksingh/blob/main/python_basics.ipynb\" target=\"_parent\"><img src=\"https://colab.research.google.com/assets/colab-badge.svg\" alt=\"Open In Colab\"/></a>"
      ]
    },
    {
      "cell_type": "code",
      "execution_count": null,
      "metadata": {
        "colab": {
          "base_uri": "https://localhost:8080/"
        },
        "id": "dVvYZwZ56JbA",
        "outputId": "4ec163dc-bf80-41bc-e9c0-f2f8023df17e"
      },
      "outputs": [
        {
          "output_type": "stream",
          "name": "stdout",
          "text": [
            "jojo\n"
          ]
        }
      ],
      "source": [
        "print (\"jojo\")"
      ]
    },
    {
      "cell_type": "code",
      "source": [
        "print ( \"hello\", 5, \"5\",True,\"True\",sep='$')"
      ],
      "metadata": {
        "colab": {
          "base_uri": "https://localhost:8080/"
        },
        "id": "GbWwibq6OshB",
        "outputId": "0816a0e0-8872-4a10-effa-afc81f819487"
      },
      "execution_count": null,
      "outputs": [
        {
          "output_type": "stream",
          "name": "stdout",
          "text": [
            "hello$5$5$True$True\n"
          ]
        }
      ]
    },
    {
      "cell_type": "code",
      "source": [
        "print('heello',end='*&')\n",
        "print('world')"
      ],
      "metadata": {
        "colab": {
          "base_uri": "https://localhost:8080/"
        },
        "id": "2552JrwdQMaW",
        "outputId": "3a7ce985-d2a5-41e9-9e33-2b7db9e45327"
      },
      "execution_count": null,
      "outputs": [
        {
          "output_type": "stream",
          "name": "stdout",
          "text": [
            "heello*&world\n"
          ]
        }
      ]
    },
    {
      "cell_type": "code",
      "source": [
        "a=str(5)\n",
        "b=str(2)\n",
        "print(a+b)"
      ],
      "metadata": {
        "colab": {
          "base_uri": "https://localhost:8080/"
        },
        "id": "aXx7s9_sWq_8",
        "outputId": "d16e3c86-3b37-4543-a1b9-d18a34bbc7b9"
      },
      "execution_count": null,
      "outputs": [
        {
          "output_type": "stream",
          "name": "stdout",
          "text": [
            "52\n"
          ]
        }
      ]
    },
    {
      "cell_type": "code",
      "source": [
        "#comments\n"
      ],
      "metadata": {
        "id": "ugAyB7Vi0Aqy"
      },
      "execution_count": null,
      "outputs": []
    },
    {
      "cell_type": "code",
      "source": [
        "input(\"Enter name :- \")"
      ],
      "metadata": {
        "colab": {
          "base_uri": "https://localhost:8080/",
          "height": 53
        },
        "id": "unUsgx6yuq1G",
        "outputId": "dee09e6f-04bf-4129-a2eb-b36361e24f8a"
      },
      "execution_count": null,
      "outputs": [
        {
          "name": "stdout",
          "output_type": "stream",
          "text": [
            "Enter name :- adbhut\n"
          ]
        },
        {
          "output_type": "execute_result",
          "data": {
            "text/plain": [
              "'adbhut'"
            ],
            "application/vnd.google.colaboratory.intrinsic+json": {
              "type": "string"
            }
          },
          "metadata": {},
          "execution_count": 3
        }
      ]
    },
    {
      "cell_type": "code",
      "source": [
        "num1=input('Enter num1 :- ')\n",
        "num2=input('Enter num2 :- ')\n",
        "sum=int(num1)+int(num2)\n",
        "print(sum)\n"
      ],
      "metadata": {
        "colab": {
          "base_uri": "https://localhost:8080/"
        },
        "id": "c18M9STWxOgR",
        "outputId": "520fdb8e-7e80-4b12-fcab-aec60fb3e201"
      },
      "execution_count": null,
      "outputs": [
        {
          "output_type": "stream",
          "name": "stdout",
          "text": [
            "Enter num1 :- 5\n",
            "Enter num2 :- 2\n",
            "7\n"
          ]
        }
      ]
    },
    {
      "cell_type": "code",
      "source": [
        "print(5**2)"
      ],
      "metadata": {
        "id": "0xQr-HmHMdHg",
        "colab": {
          "base_uri": "https://localhost:8080/"
        },
        "outputId": "737700e9-eb60-4d30-bc10-5a775dd61b30"
      },
      "execution_count": null,
      "outputs": [
        {
          "output_type": "stream",
          "name": "stdout",
          "text": [
            "25\n"
          ]
        }
      ]
    },
    {
      "cell_type": "code",
      "source": [
        "print(0 or 0)"
      ],
      "metadata": {
        "colab": {
          "base_uri": "https://localhost:8080/"
        },
        "id": "TOoiBrQMr-sD",
        "outputId": "6b740faa-4ce6-451b-e383-6cade9d5d968"
      },
      "execution_count": null,
      "outputs": [
        {
          "output_type": "stream",
          "name": "stdout",
          "text": [
            "0\n"
          ]
        }
      ]
    },
    {
      "cell_type": "code",
      "source": [
        "print(not 0)"
      ],
      "metadata": {
        "colab": {
          "base_uri": "https://localhost:8080/"
        },
        "id": "NNVR6o9ptH5s",
        "outputId": "bda89f84-6d12-43f6-a616-373b41faf1e7"
      },
      "execution_count": null,
      "outputs": [
        {
          "output_type": "stream",
          "name": "stdout",
          "text": [
            "True\n"
          ]
        }
      ]
    },
    {
      "cell_type": "code",
      "source": [
        "print(2|3)"
      ],
      "metadata": {
        "colab": {
          "base_uri": "https://localhost:8080/"
        },
        "id": "MDgqFLoFtmEm",
        "outputId": "083e9494-5572-4d32-df5b-8e7bb7d6c910"
      },
      "execution_count": null,
      "outputs": [
        {
          "output_type": "stream",
          "name": "stdout",
          "text": [
            "3\n"
          ]
        }
      ]
    },
    {
      "cell_type": "code",
      "source": [
        "email=input(\"enter email\")\n",
        "password=input(\"enter password\")\n",
        "\n",
        "if email==\"adbhut1506@gmail.com\" and password==\"1234\":\n",
        "  print(\"Welcome\")\n",
        "elif email==\"adbhut1506@gmail.com\" and password!=\"1234\":\n",
        "  print(\"Password Incorrect\")\n",
        "  password=input(\"enter password again\")\n",
        "  if password==\"1234\":\n",
        "    print(\"Welcome\")\n",
        "  else:\n",
        "    print(\"tumse na ho payega\")\n",
        "else:\n",
        "  print(\"not correct\")"
      ],
      "metadata": {
        "colab": {
          "base_uri": "https://localhost:8080/"
        },
        "id": "5vNURj21GNff",
        "outputId": "c6dac697-84bb-4ed9-ed01-284889343947"
      },
      "execution_count": null,
      "outputs": [
        {
          "output_type": "stream",
          "name": "stdout",
          "text": [
            "enter emailadbhut1506@gmail.com\n",
            "enter password155\n",
            "Password Incorrect\n",
            "enter password again1234\n",
            "Welcome\n"
          ]
        }
      ]
    },
    {
      "cell_type": "code",
      "source": [
        "for i in range (10,-6,-1):\n",
        "  print(i)"
      ],
      "metadata": {
        "colab": {
          "base_uri": "https://localhost:8080/"
        },
        "id": "-RWUoy5ff320",
        "outputId": "5b0f492c-ec8b-4d08-c63b-4cae8e8f850f"
      },
      "execution_count": null,
      "outputs": [
        {
          "output_type": "stream",
          "name": "stdout",
          "text": [
            "10\n",
            "9\n",
            "8\n",
            "7\n",
            "6\n",
            "5\n",
            "4\n",
            "3\n",
            "2\n",
            "1\n",
            "0\n",
            "-1\n",
            "-2\n",
            "-3\n",
            "-4\n",
            "-5\n"
          ]
        }
      ]
    },
    {
      "cell_type": "code",
      "source": [
        "n = int(input(\"enter n \"))\n",
        "result= 0\n",
        "fact=1\n",
        "for i in range(1,n+1):\n",
        "  fact=fact*i\n",
        "  result=result+i/fact\n",
        "print(result)"
      ],
      "metadata": {
        "colab": {
          "base_uri": "https://localhost:8080/"
        },
        "id": "EJ8sWnOFDhGl",
        "outputId": "4a7c5a63-1cb3-4ac1-cfe4-dfe54ce438af"
      },
      "execution_count": null,
      "outputs": [
        {
          "output_type": "stream",
          "name": "stdout",
          "text": [
            "enter n 5\n",
            "2.708333333333333\n"
          ]
        }
      ]
    },
    {
      "cell_type": "code",
      "source": [
        "print(\"delhi \"+\"\"+ \" mumbai\")"
      ],
      "metadata": {
        "colab": {
          "base_uri": "https://localhost:8080/"
        },
        "id": "SLiP7GA9xT-J",
        "outputId": "82b01dd4-e33a-4c39-8050-1b28d1a8a952"
      },
      "execution_count": null,
      "outputs": [
        {
          "output_type": "stream",
          "name": "stdout",
          "text": [
            "delhi  mumbai\n"
          ]
        }
      ]
    },
    {
      "cell_type": "code",
      "source": [
        "\"delhi\" == \"delhi\""
      ],
      "metadata": {
        "colab": {
          "base_uri": "https://localhost:8080/"
        },
        "id": "v9qGMVVeyVN6",
        "outputId": "6832ecd7-16f4-4826-a9e1-5c7db66d92cd"
      },
      "execution_count": null,
      "outputs": [
        {
          "output_type": "execute_result",
          "data": {
            "text/plain": [
              "True"
            ]
          },
          "metadata": {},
          "execution_count": 8
        }
      ]
    },
    {
      "cell_type": "code",
      "source": [
        "\"my name is adbhut  \".count(\"i\")"
      ],
      "metadata": {
        "colab": {
          "base_uri": "https://localhost:8080/"
        },
        "id": "2ewFk5c0zSb9",
        "outputId": "f410c803-b871-405b-cc3d-7a0d17674e31"
      },
      "execution_count": null,
      "outputs": [
        {
          "output_type": "execute_result",
          "data": {
            "text/plain": [
              "1"
            ]
          },
          "metadata": {},
          "execution_count": 3
        }
      ]
    },
    {
      "cell_type": "code",
      "source": [
        "\"my name is  adbhut \".find(\"is\")"
      ],
      "metadata": {
        "colab": {
          "base_uri": "https://localhost:8080/"
        },
        "id": "QV0FGwyCzu_R",
        "outputId": "702b65f0-c955-444b-da41-a36233307426"
      },
      "execution_count": null,
      "outputs": [
        {
          "output_type": "execute_result",
          "data": {
            "text/plain": [
              "8"
            ]
          },
          "metadata": {},
          "execution_count": 9
        }
      ]
    },
    {
      "cell_type": "code",
      "source": [
        "\"adbhut\".isalpha()"
      ],
      "metadata": {
        "colab": {
          "base_uri": "https://localhost:8080/"
        },
        "id": "K1NgEiyb_Jyw",
        "outputId": "9a91fdb9-4aa6-4771-d6fb-6d776da9f3fb"
      },
      "execution_count": null,
      "outputs": [
        {
          "output_type": "execute_result",
          "data": {
            "text/plain": [
              "True"
            ]
          },
          "metadata": {},
          "execution_count": 12
        }
      ]
    },
    {
      "cell_type": "code",
      "source": [
        "\"123abc\".isdigit()"
      ],
      "metadata": {
        "colab": {
          "base_uri": "https://localhost:8080/"
        },
        "id": "Y2TCUf38_R7d",
        "outputId": "d55c3638-a2d0-4f57-abc2-516078fc6efb"
      },
      "execution_count": null,
      "outputs": [
        {
          "output_type": "execute_result",
          "data": {
            "text/plain": [
              "False"
            ]
          },
          "metadata": {},
          "execution_count": 15
        }
      ]
    },
    {
      "cell_type": "code",
      "source": [
        "'my name is adbhut '.split('a')"
      ],
      "metadata": {
        "colab": {
          "base_uri": "https://localhost:8080/"
        },
        "id": "INtC79z_AXhq",
        "outputId": "07a8375e-d04a-41a4-9975-e1b5f2b166f1"
      },
      "execution_count": null,
      "outputs": [
        {
          "output_type": "execute_result",
          "data": {
            "text/plain": [
              "['my n', 'me is ', 'dbhut ']"
            ]
          },
          "metadata": {},
          "execution_count": 20
        }
      ]
    },
    {
      "cell_type": "code",
      "source": [
        "s= input(\"enter the string \")\n",
        "counter=0\n",
        "for i in s:\n",
        "  counter+=1\n",
        "print(\"the length is \",counter)"
      ],
      "metadata": {
        "colab": {
          "base_uri": "https://localhost:8080/"
        },
        "id": "hRU97byRzaNo",
        "outputId": "07d4bced-ee5c-46b1-8a42-b771a6899f78"
      },
      "execution_count": null,
      "outputs": [
        {
          "output_type": "stream",
          "name": "stdout",
          "text": [
            "enter the string adbhut\n",
            "the length is  6\n"
          ]
        }
      ]
    },
    {
      "cell_type": "code",
      "source": [
        "s= input(\"enter the email: \")\n",
        "pos=s.index(\"@\")\n",
        "print(s[0:pos])"
      ],
      "metadata": {
        "colab": {
          "base_uri": "https://localhost:8080/"
        },
        "id": "7-fJZpt84nAW",
        "outputId": "5d30aa5c-b2e5-4db3-aed3-c9635ab3b36f"
      },
      "execution_count": null,
      "outputs": [
        {
          "output_type": "stream",
          "name": "stdout",
          "text": [
            "enter the email: hello@gmail.com\n",
            "hello\n"
          ]
        }
      ]
    },
    {
      "cell_type": "code",
      "source": [
        "s = \"hi how are you \"\n",
        "s.title()\n"
      ],
      "metadata": {
        "colab": {
          "base_uri": "https://localhost:8080/",
          "height": 36
        },
        "id": "2bxhKURxCA8k",
        "outputId": "9abf4fad-a46c-4293-d2b5-768e56a83d1b"
      },
      "execution_count": null,
      "outputs": [
        {
          "output_type": "execute_result",
          "data": {
            "text/plain": [
              "'Hi How Are You '"
            ],
            "application/vnd.google.colaboratory.intrinsic+json": {
              "type": "string"
            }
          },
          "metadata": {},
          "execution_count": 1
        }
      ]
    },
    {
      "cell_type": "code",
      "source": [
        "s=[10,'20']\n",
        "print(type(s))\n"
      ],
      "metadata": {
        "colab": {
          "base_uri": "https://localhost:8080/"
        },
        "id": "vhmGB2WHfGZr",
        "outputId": "56ebdd86-9152-406a-e846-bdf1f7307428"
      },
      "execution_count": null,
      "outputs": [
        {
          "output_type": "stream",
          "name": "stdout",
          "text": [
            "<class 'list'>\n"
          ]
        }
      ]
    },
    {
      "cell_type": "code",
      "source": [
        "l=[1,2,3,4,5]\n",
        "l.pop(2)\n",
        "print(l)"
      ],
      "metadata": {
        "colab": {
          "base_uri": "https://localhost:8080/"
        },
        "id": "K4LQmWpaAFuA",
        "outputId": "7b420609-0ca3-4284-f04b-3e206674d33c"
      },
      "execution_count": null,
      "outputs": [
        {
          "output_type": "stream",
          "name": "stdout",
          "text": [
            "[1, 2, 4, 5]\n"
          ]
        }
      ]
    },
    {
      "cell_type": "code",
      "source": [
        "l1=[1,2,3]\n",
        "l2=[6,7,8,9,10]\n",
        "print(l1*2)"
      ],
      "metadata": {
        "colab": {
          "base_uri": "https://localhost:8080/"
        },
        "id": "U0CP08BW-Wnm",
        "outputId": "161d763a-2209-4366-b897-5e2bfca95a2e"
      },
      "execution_count": null,
      "outputs": [
        {
          "output_type": "stream",
          "name": "stdout",
          "text": [
            "[1, 2, 3, 1, 2, 3]\n"
          ]
        }
      ]
    },
    {
      "cell_type": "code",
      "source": [
        "v=[2,3,4]\n",
        "s=-3\n",
        "[i*s for i in v]"
      ],
      "metadata": {
        "id": "q_dsYqFH_NUY",
        "colab": {
          "base_uri": "https://localhost:8080/"
        },
        "outputId": "c43bbeb2-062b-4cf1-8de1-7cdb91dcccca"
      },
      "execution_count": null,
      "outputs": [
        {
          "output_type": "execute_result",
          "data": {
            "text/plain": [
              "[-6, -9, -12]"
            ]
          },
          "metadata": {},
          "execution_count": 1
        }
      ]
    },
    {
      "cell_type": "code",
      "source": [
        "t1=(1,2,3,4)\n",
        "print(type(t1))\n",
        "print(t1)"
      ],
      "metadata": {
        "colab": {
          "base_uri": "https://localhost:8080/"
        },
        "id": "JK9JdidLHq6X",
        "outputId": "30331fbb-265f-43c3-a225-673b5860ad8a"
      },
      "execution_count": null,
      "outputs": [
        {
          "output_type": "stream",
          "name": "stdout",
          "text": [
            "<class 'tuple'>\n",
            "(1, 2, 3, 4)\n"
          ]
        }
      ]
    },
    {
      "cell_type": "code",
      "source": [
        "t1=(1,2,3,(4,5))\n",
        "print(type(t1))\n",
        "print(t1)\n",
        "t3=(1,2,3,4)"
      ],
      "metadata": {
        "colab": {
          "base_uri": "https://localhost:8080/"
        },
        "id": "7AGbC4-KHzVU",
        "outputId": "ec416bcc-2510-4d2b-db6b-0a333ce61ef7"
      },
      "execution_count": null,
      "outputs": [
        {
          "output_type": "stream",
          "name": "stdout",
          "text": [
            "<class 'tuple'>\n",
            "(1, 2, 3, (4, 5))\n"
          ]
        }
      ]
    },
    {
      "cell_type": "code",
      "source": [
        "s1={1,2,3,4}\n",
        "print(s1)\n",
        "print(type(s1))"
      ],
      "metadata": {
        "id": "Ahbg6LKx0qpC",
        "outputId": "3b95f13e-d135-4f3f-c5ab-2b9fa91cd0ab",
        "colab": {
          "base_uri": "https://localhost:8080/"
        }
      },
      "execution_count": null,
      "outputs": [
        {
          "output_type": "stream",
          "name": "stdout",
          "text": [
            "{1, 2, 3, 4}\n",
            "<class 'set'>\n"
          ]
        }
      ]
    },
    {
      "cell_type": "code",
      "source": [
        "s4=set([3,2,1])\n",
        "print(s4)\n",
        "print(type(s4))"
      ],
      "metadata": {
        "colab": {
          "base_uri": "https://localhost:8080/"
        },
        "id": "1C88u4FO6xLy",
        "outputId": "2b139d1b-0245-4791-e990-1375018d4559"
      },
      "execution_count": null,
      "outputs": [
        {
          "output_type": "stream",
          "name": "stdout",
          "text": [
            "{1, 2, 3}\n",
            "<class 'set'>\n"
          ]
        }
      ]
    },
    {
      "cell_type": "code",
      "source": [
        "s1={1,2,3,4}\n",
        "s2={5,6,7,8}\n",
        "key=s1|s2\n",
        "print(key)"
      ],
      "metadata": {
        "id": "-oLlL5i077D8",
        "colab": {
          "base_uri": "https://localhost:8080/"
        },
        "outputId": "bdf8dc5b-56c0-4bcb-cec1-91af726c3c69"
      },
      "execution_count": null,
      "outputs": [
        {
          "output_type": "stream",
          "name": "stdout",
          "text": [
            "{1, 2, 3, 4, 5, 6, 7, 8}\n"
          ]
        }
      ]
    },
    {
      "cell_type": "code",
      "source": [
        "s1={1,2,3,4,5}\n",
        "s2={4,5,6,7,8}\n",
        "s1.difference_update(s2)\n",
        "print(s1)"
      ],
      "metadata": {
        "colab": {
          "base_uri": "https://localhost:8080/"
        },
        "id": "7PC_B__ftscd",
        "outputId": "e4321411-a9e3-4705-8142-8da20353994b"
      },
      "execution_count": null,
      "outputs": [
        {
          "output_type": "stream",
          "name": "stdout",
          "text": [
            "{1, 2, 3}\n"
          ]
        }
      ]
    },
    {
      "cell_type": "code",
      "source": [
        "my_dict = {'name':'adbhut','age':26}\n",
        "my_dict[\"age\"]"
      ],
      "metadata": {
        "colab": {
          "base_uri": "https://localhost:8080/"
        },
        "id": "erO5sFWdJKhg",
        "outputId": "71dc154b-7617-460b-9a91-eff476c0eb31"
      },
      "execution_count": null,
      "outputs": [
        {
          "output_type": "execute_result",
          "data": {
            "text/plain": [
              "26"
            ]
          },
          "metadata": {},
          "execution_count": 2
        }
      ]
    },
    {
      "cell_type": "code",
      "source": [
        "dict={'name':'adbhut'}\n",
        "dict['gender']='male'\n",
        "dict['weight']=72\n",
        "dict\n"
      ],
      "metadata": {
        "colab": {
          "base_uri": "https://localhost:8080/"
        },
        "id": "g34zzNUjaJff",
        "outputId": "24ddf711-18a5-4562-d50c-05d716012622"
      },
      "execution_count": null,
      "outputs": [
        {
          "output_type": "execute_result",
          "data": {
            "text/plain": [
              "{'name': 'adbhut', 'gender': 'male', 'weight': 72}"
            ]
          },
          "metadata": {},
          "execution_count": 4
        }
      ]
    },
    {
      "cell_type": "code",
      "source": [
        "d={'name': 'adbhut', 'gender': 'male', 'weight': 72}\n",
        "d.pop('name')\n",
        "print(d)"
      ],
      "metadata": {
        "colab": {
          "base_uri": "https://localhost:8080/"
        },
        "id": "fz9_5qpAcJdA",
        "outputId": "327892a8-eedf-4e41-9746-b365c56b1c13"
      },
      "execution_count": null,
      "outputs": [
        {
          "output_type": "stream",
          "name": "stdout",
          "text": [
            "{'gender': 'male', 'weight': 72}\n"
          ]
        }
      ]
    },
    {
      "cell_type": "code",
      "source": [
        "def is_even(num):\n",
        "  if num%2==0:\n",
        "    print(\"even\")\n",
        "  else:\n",
        "    print(\"odd\")\n",
        "print(is_even(7))"
      ],
      "metadata": {
        "colab": {
          "base_uri": "https://localhost:8080/"
        },
        "id": "bGyCvvcbNeBh",
        "outputId": "ad28726d-7686-4fe8-a90e-b73ad11e2154"
      },
      "execution_count": null,
      "outputs": [
        {
          "output_type": "stream",
          "name": "stdout",
          "text": [
            "odd\n",
            "None\n"
          ]
        }
      ]
    },
    {
      "cell_type": "code",
      "source": [],
      "metadata": {
        "id": "N69l8lrr6dET"
      },
      "execution_count": null,
      "outputs": []
    }
  ]
}